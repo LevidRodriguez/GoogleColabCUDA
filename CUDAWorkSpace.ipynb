{
  "nbformat": 4,
  "nbformat_minor": 0,
  "metadata": {
    "colab": {
      "name": "CUDAWorkSpace.ipynb",
      "version": "0.3.2",
      "provenance": [],
      "collapsed_sections": [],
      "include_colab_link": true
    },
    "kernelspec": {
      "name": "python3",
      "display_name": "Python 3"
    },
    "accelerator": "GPU"
  },
  "cells": [
    {
      "cell_type": "markdown",
      "metadata": {
        "id": "view-in-github",
        "colab_type": "text"
      },
      "source": [
        "<a href=\"https://colab.research.google.com/github/LevidRodriguez/GoogleColabCUDA/blob/master/CUDAWorkSpace.ipynb\" target=\"_parent\"><img src=\"https://colab.research.google.com/assets/colab-badge.svg\" alt=\"Open In Colab\"/></a>"
      ]
    },
    {
      "cell_type": "code",
      "metadata": {
        "id": "H4pu6KBt8sA9",
        "colab_type": "code",
        "outputId": "ba8a2d3f-adbd-4808-f230-ee44b33eab43",
        "colab": {
          "base_uri": "https://localhost:8080/",
          "height": 1261
        }
      },
      "source": [
        "!ls -l\n",
        "!git clone https://github.com/LevidRodriguez/GoogleColabCUDA.git\n",
        "%cd GoogleColabCUDA\n",
        "!ls -l\n",
        "!pip install git+git://github.com/andreinechaev/nvcc4jupyter.git\n",
        "%load_ext nvcc_plugin\n",
        "!make\n",
        "!./deviceQuery\n",
        "!ls -l\n",
        "!git push origin master"
      ],
      "execution_count": 17,
      "outputs": [
        {
          "output_type": "stream",
          "text": [
            "total 800\n",
            "-rwxr-xr-x 1 root root 722584 May 27 21:34 deviceQuery\n",
            "-rwxr-xr-x 1 root root   3477 May 27 21:34 deviceQuery.cpp\n",
            "-rw-r--r-- 1 root root  35112 May 27 21:34 deviceQuery.o\n",
            "-rw-r--r-- 1 root root  20913 May 27 21:34 grayScale.png\n",
            "drwxr-xr-x 2 root root   4096 May 27 21:34 images\n",
            "-rwxr-xr-x 1 root root  10065 May 27 21:34 Makefile\n",
            "-rw-r--r-- 1 root root    171 May 27 21:34 MakefileXX\n",
            "-rw-r--r-- 1 root root    560 May 27 21:34 OpenCVVersion.cpp\n",
            "-rw-r--r-- 1 root root     51 May 27 21:34 readme.md\n",
            "Cloning into 'GoogleColabCUDA'...\n",
            "remote: Enumerating objects: 12, done.\u001b[K\n",
            "remote: Counting objects: 100% (12/12), done.\u001b[K\n",
            "remote: Compressing objects: 100% (12/12), done.\u001b[K\n",
            "remote: Total 104 (delta 6), reused 0 (delta 0), pack-reused 92\u001b[K\n",
            "Receiving objects: 100% (104/104), 197.58 KiB | 806.00 KiB/s, done.\n",
            "Resolving deltas: 100% (48/48), done.\n",
            "/content/GoogleColabCUDA/GoogleColabCUDA/GoogleColabCUDA/GoogleColabCUDA/GoogleColabCUDA/GoogleColabCUDA/GoogleColabCUDA/GoogleColabCUDA/GoogleColabCUDA/GoogleColabCUDA/GoogleColabCUDA/GoogleColabCUDA/GoogleColabCUDA/GoogleColabCUDA/GoogleColabCUDA\n",
            "total 644\n",
            "-rwxr-xr-x 1 root root 624096 May 27 21:37 deviceQuery\n",
            "-rwxr-xr-x 1 root root   3477 May 27 21:37 deviceQuery.cpp\n",
            "drwxr-xr-x 2 root root   4096 May 27 21:37 images\n",
            "-rwxr-xr-x 1 root root  10065 May 27 21:37 Makefile\n",
            "-rw-r--r-- 1 root root    171 May 27 21:37 MakefileXX\n",
            "-rw-r--r-- 1 root root    560 May 27 21:37 OpenCVVersion.cpp\n",
            "-rw-r--r-- 1 root root     51 May 27 21:37 readme.md\n",
            "Collecting git+git://github.com/andreinechaev/nvcc4jupyter.git\n",
            "  Cloning git://github.com/andreinechaev/nvcc4jupyter.git to /tmp/pip-req-build-boknde8j\n",
            "  Running command git clone -q git://github.com/andreinechaev/nvcc4jupyter.git /tmp/pip-req-build-boknde8j\n",
            "Requirement already satisfied (use --upgrade to upgrade): NVCCPlugin==0.0.2 from git+git://github.com/andreinechaev/nvcc4jupyter.git in /usr/local/lib/python3.6/dist-packages\n",
            "Building wheels for collected packages: NVCCPlugin\n",
            "  Building wheel for NVCCPlugin (setup.py) ... \u001b[?25l\u001b[?25hdone\n",
            "  Stored in directory: /tmp/pip-ephem-wheel-cache-qjlb0mqp/wheels/10/c2/05/ca241da37bff77d60d31a9174f988109c61ba989e4d4650516\n",
            "Successfully built NVCCPlugin\n",
            "The nvcc_plugin extension is already loaded. To reload it, use:\n",
            "  %reload_ext nvcc_plugin\n",
            "/usr/local/cuda-10.0/bin/nvcc -ccbin g++ -I../../common/inc  -m64 `pkg-config opencv --cflags --libs`    -gencode arch=compute_30,code=sm_30 -gencode arch=compute_35,code=sm_35 -gencode arch=compute_37,code=sm_37 -gencode arch=compute_50,code=sm_50 -gencode arch=compute_52,code=sm_52 -gencode arch=compute_60,code=sm_60 -gencode arch=compute_70,code=sm_70 -gencode arch=compute_70,code=compute_70 -o deviceQuery.o -c deviceQuery.cpp\n",
            "/usr/local/cuda-10.0/bin/nvcc -ccbin g++   -m64 `pkg-config opencv --cflags --libs`      -gencode arch=compute_30,code=sm_30 -gencode arch=compute_35,code=sm_35 -gencode arch=compute_37,code=sm_37 -gencode arch=compute_50,code=sm_50 -gencode arch=compute_52,code=sm_52 -gencode arch=compute_60,code=sm_60 -gencode arch=compute_70,code=sm_70 -gencode arch=compute_70,code=compute_70 -o deviceQuery deviceQuery.o \n",
            "mkdir -p ../../bin/x86_64/linux/release\n",
            "cp deviceQuery ../../bin/x86_64/linux/release\n",
            "Starting..../deviceQuery\n",
            "\n",
            "CUDA Device Query (Runtime API) version (CUDART static linking)\n",
            "\n",
            "Detected 1 CUDA Capable device(s)\n",
            "\n",
            "Device: 0 Tesla T4\n",
            "CUDA Driver Version / Runtime Version          100100\n",
            "CUDA Capability Major / Minor version number:          1075\n",
            "OpenCV version : 3.2.0\n",
            "Major version : 3\n",
            "Minor version : 2\n",
            "Subminor version : 0\n",
            "E = \n",
            " [1, 0, 0, 0;\n",
            " 0, 1, 0, 0;\n",
            " 0, 0, 1, 0;\n",
            " 0, 0, 0, 1]\n",
            "\n",
            "Image open!\n",
            "Writed Image\n",
            "total 800\n",
            "-rwxr-xr-x 1 root root 722584 May 27 21:38 deviceQuery\n",
            "-rwxr-xr-x 1 root root   3477 May 27 21:37 deviceQuery.cpp\n",
            "-rw-r--r-- 1 root root  35112 May 27 21:38 deviceQuery.o\n",
            "-rw-r--r-- 1 root root  20913 May 27 21:38 grayScale.png\n",
            "drwxr-xr-x 2 root root   4096 May 27 21:37 images\n",
            "-rwxr-xr-x 1 root root  10065 May 27 21:37 Makefile\n",
            "-rw-r--r-- 1 root root    171 May 27 21:37 MakefileXX\n",
            "-rw-r--r-- 1 root root    560 May 27 21:37 OpenCVVersion.cpp\n",
            "-rw-r--r-- 1 root root     51 May 27 21:37 readme.md\n",
            "fatal: could not read Username for 'https://github.com': No such device or address\n"
          ],
          "name": "stdout"
        }
      ]
    },
    {
      "cell_type": "code",
      "metadata": {
        "id": "_X_ezaIPIam4",
        "colab_type": "code",
        "colab": {
          "base_uri": "https://localhost:8080/",
          "height": 216
        },
        "outputId": "39625d6f-c681-4769-d386-f4acf4d6668b"
      },
      "source": [
        "!ls -l"
      ],
      "execution_count": 18,
      "outputs": [
        {
          "output_type": "stream",
          "text": [
            "total 800\n",
            "-rwxr-xr-x 1 root root 722584 May 27 21:38 deviceQuery\n",
            "-rwxr-xr-x 1 root root   3477 May 27 21:37 deviceQuery.cpp\n",
            "-rw-r--r-- 1 root root  35112 May 27 21:38 deviceQuery.o\n",
            "-rw-r--r-- 1 root root  20913 May 27 21:38 grayScale.png\n",
            "drwxr-xr-x 2 root root   4096 May 27 21:37 images\n",
            "-rwxr-xr-x 1 root root  10065 May 27 21:37 Makefile\n",
            "-rw-r--r-- 1 root root    171 May 27 21:37 MakefileXX\n",
            "-rw-r--r-- 1 root root    560 May 27 21:37 OpenCVVersion.cpp\n",
            "-rw-r--r-- 1 root root     51 May 27 21:37 readme.md\n"
          ],
          "name": "stdout"
        }
      ]
    },
    {
      "cell_type": "code",
      "metadata": {
        "id": "BD5zAKbDO7bs",
        "colab_type": "code",
        "colab": {
          "base_uri": "https://localhost:8080/",
          "height": 63
        },
        "outputId": "89c56820-0103-4501-a79f-7f558274c92d"
      },
      "source": [
        "!git push -u origin master"
      ],
      "execution_count": 23,
      "outputs": [
        {
          "output_type": "stream",
          "text": [
            "fatal: could not read Username for 'https://github.com': No such device or address\n"
          ],
          "name": "stdout"
        }
      ]
    },
    {
      "cell_type": "code",
      "metadata": {
        "id": "JYjizBVaO-rX",
        "colab_type": "code",
        "colab": {}
      },
      "source": [
        ""
      ],
      "execution_count": 0,
      "outputs": []
    }
  ]
}